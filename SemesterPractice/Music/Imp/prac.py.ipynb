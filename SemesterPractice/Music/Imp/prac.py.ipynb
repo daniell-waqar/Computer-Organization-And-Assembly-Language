{
 "cells": [
  {
   "cell_type": "code",
   "execution_count": 1,
   "metadata": {},
   "outputs": [
    {
     "name": "stdout",
     "output_type": "stream",
     "text": [
      "2\n"
     ]
    }
   ],
   "source": [
    "#Program to find minimum number is list\n",
    "\n",
    "l = [23,56,44,21,245,9,2,34]   \n",
    "\n",
    "min = l[0]     #initialize minimum element\n",
    "for i in l:         #iterate over list\n",
    "    if i < min:  #compare every element with min\n",
    "        min = i\n",
    "print(min)"
   ]
  },
  {
   "cell_type": "code",
   "execution_count": 5,
   "metadata": {},
   "outputs": [
    {
     "data": {
      "text/plain": [
       "True"
      ]
     },
     "execution_count": 5,
     "metadata": {},
     "output_type": "execute_result"
    }
   ],
   "source": [
    "# function that takes two lists and returns True if they have at least one common member.\n",
    "\n",
    "def common_element(list1,list2):\n",
    "    for i in list1:\n",
    "        if i in list2:\n",
    "            conclusion = True\n",
    "            return conclusion\n",
    "        \n",
    "    else:\n",
    "        print(\"List doesn't contain any common element\")\n",
    "common_element([23,56,44,21,4],[9,5,2,3,21])\n",
    "        "
   ]
  },
  {
   "cell_type": "code",
   "execution_count": null,
   "metadata": {},
   "outputs": [],
   "source": [
    "\n",
    "list1 = [1,2,3,4]\n",
    "list2 = []"
   ]
  }
 ],
 "metadata": {
  "kernelspec": {
   "display_name": "Python 3",
   "language": "python",
   "name": "python3"
  },
  "language_info": {
   "codemirror_mode": {
    "name": "ipython",
    "version": 3
   },
   "file_extension": ".py",
   "mimetype": "text/x-python",
   "name": "python",
   "nbconvert_exporter": "python",
   "pygments_lexer": "ipython3",
   "version": "3.7.3"
  }
 },
 "nbformat": 4,
 "nbformat_minor": 2
}
