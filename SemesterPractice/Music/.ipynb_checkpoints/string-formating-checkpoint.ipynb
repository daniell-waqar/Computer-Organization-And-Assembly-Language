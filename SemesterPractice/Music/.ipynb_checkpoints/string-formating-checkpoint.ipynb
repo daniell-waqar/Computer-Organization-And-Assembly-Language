{
 "cells": [
  {
   "cell_type": "code",
   "execution_count": 1,
   "metadata": {},
   "outputs": [],
   "source": [
    "x = 3\n",
    "y = 10"
   ]
  },
  {
   "cell_type": "code",
   "execution_count": 2,
   "metadata": {},
   "outputs": [
    {
     "name": "stdout",
     "output_type": "stream",
     "text": [
      "x= 3 and y= 10\n"
     ]
    }
   ],
   "source": [
    "print(\"x=\", x, \"and y=\", y)       # A good programer is a lazy programer"
   ]
  },
  {
   "cell_type": "code",
   "execution_count": 3,
   "metadata": {},
   "outputs": [
    {
     "name": "stdout",
     "output_type": "stream",
     "text": [
      "x=3\n"
     ]
    }
   ],
   "source": [
    "print(\"x=%d\" % x)            # Old method "
   ]
  },
  {
   "cell_type": "code",
   "execution_count": 4,
   "metadata": {},
   "outputs": [
    {
     "name": "stdout",
     "output_type": "stream",
     "text": [
      "x=3 and y=10\n"
     ]
    }
   ],
   "source": [
    "print(\"x=%d and y=%d\"  % (x,y))       #  more than one variable  \n",
    "                                                # lower the chances of mistake                    "
   ]
  },
  {
   "cell_type": "code",
   "execution_count": 5,
   "metadata": {},
   "outputs": [
    {
     "name": "stdout",
     "output_type": "stream",
     "text": [
      "x=3 and y=10\n"
     ]
    }
   ],
   "source": [
    "print(\"x={} and y={}\".format(x,y))      # new method"
   ]
  },
  {
   "cell_type": "code",
   "execution_count": 6,
   "metadata": {},
   "outputs": [],
   "source": [
    "x = 8.68723\n",
    "y = 10"
   ]
  },
  {
   "cell_type": "code",
   "execution_count": 7,
   "metadata": {},
   "outputs": [
    {
     "name": "stdout",
     "output_type": "stream",
     "text": [
      "x=8.687230 and y=10\n"
     ]
    }
   ],
   "source": [
    "print(\"x=%f and y=%d\" % (x,y))       #that's problem in old method we use diff % for diff data types    "
   ]
  },
  {
   "cell_type": "code",
   "execution_count": 11,
   "metadata": {},
   "outputs": [
    {
     "name": "stdout",
     "output_type": "stream",
     "text": [
      "x=8.69 and y=10\n"
     ]
    }
   ],
   "source": [
    "print(\"x=%.2f and y=%d\" % (x,y))       #round of"
   ]
  },
  {
   "cell_type": "code",
   "execution_count": 23,
   "metadata": {},
   "outputs": [
    {
     "name": "stdout",
     "output_type": "stream",
     "text": [
      "2\n",
      "56\n",
      "33\n",
      "234\n"
     ]
    }
   ],
   "source": [
    "# PADDING\n",
    "                                     # left aligned\n",
    "                                # but we want in right aligned\n",
    "l = [2,56,33,234]\n",
    "for i in l:\n",
    "    print(\"%d\" % i)"
   ]
  },
  {
   "cell_type": "code",
   "execution_count": 30,
   "metadata": {
    "scrolled": true
   },
   "outputs": [
    {
     "name": "stdout",
     "output_type": "stream",
     "text": [
      "  2\n",
      " 56\n",
      " 33\n",
      "234\n"
     ]
    }
   ],
   "source": [
    "l = [2,56,33,234]\n",
    "for i in l:                    # space padding\n",
    "    print(\"%3d\" % i)           # also use zero padding"
   ]
  },
  {
   "cell_type": "code",
   "execution_count": 31,
   "metadata": {},
   "outputs": [
    {
     "name": "stdout",
     "output_type": "stream",
     "text": [
      "  2\n",
      " 56\n",
      " 33\n",
      "234\n"
     ]
    }
   ],
   "source": [
    "for i in l:                             # padding in new format\n",
    "    print(\"{:3}\" .format(i))         # also use zero padding"
   ]
  },
  {
   "cell_type": "code",
   "execution_count": 35,
   "metadata": {},
   "outputs": [
    {
     "name": "stdout",
     "output_type": "stream",
     "text": [
      "[enjoy]\n"
     ]
    }
   ],
   "source": [
    "a = \"enjoy\"                     # string padding\n",
    "print(\"[%s]\" % a)                                                    "
   ]
  },
  {
   "cell_type": "code",
   "execution_count": 37,
   "metadata": {},
   "outputs": [
    {
     "name": "stdout",
     "output_type": "stream",
     "text": [
      "[     enjoy]\n"
     ]
    }
   ],
   "source": [
    "a = \"enjoy\"                     \n",
    "print(\"[%10s]\" % a)                                                    "
   ]
  },
  {
   "cell_type": "code",
   "execution_count": 38,
   "metadata": {},
   "outputs": [
    {
     "name": "stdout",
     "output_type": "stream",
     "text": [
      "[enjoy     ]\n"
     ]
    }
   ],
   "source": [
    "a = \"enjoy\"                     \n",
    "print(\"[%-10s]\" % a)  "
   ]
  },
  {
   "cell_type": "code",
   "execution_count": 40,
   "metadata": {},
   "outputs": [
    {
     "name": "stdout",
     "output_type": "stream",
     "text": [
      "=enjoy     =\n"
     ]
    }
   ],
   "source": [
    "print(\"={:10}=\".format(a))         # string padding in new format"
   ]
  },
  {
   "cell_type": "code",
   "execution_count": 41,
   "metadata": {},
   "outputs": [
    {
     "name": "stdout",
     "output_type": "stream",
     "text": [
      "=     enjoy=\n"
     ]
    }
   ],
   "source": [
    "print(\"={:>10}=\".format(a))       # right align"
   ]
  },
  {
   "cell_type": "code",
   "execution_count": 43,
   "metadata": {},
   "outputs": [
    {
     "name": "stdout",
     "output_type": "stream",
     "text": [
      "=enjoy     =\n"
     ]
    }
   ],
   "source": [
    "# STRING FORMATING INTO VARIABLES\n",
    "\n",
    "x = \"={:10}=\".format(a)\n",
    "print(x)"
   ]
  },
  {
   "cell_type": "code",
   "execution_count": 7,
   "metadata": {},
   "outputs": [
    {
     "data": {
      "text/plain": [
       "'a, b, c'"
      ]
     },
     "execution_count": 7,
     "metadata": {},
     "output_type": "execute_result"
    }
   ],
   "source": [
    " '{0}, {1}, {2}'.format('a', 'b', 'c')     # Accessing arguments by position"
   ]
  },
  {
   "cell_type": "code",
   "execution_count": null,
   "metadata": {},
   "outputs": [],
   "source": []
  }
 ],
 "metadata": {
  "kernelspec": {
   "display_name": "Python 3",
   "language": "python",
   "name": "python3"
  },
  "language_info": {
   "codemirror_mode": {
    "name": "ipython",
    "version": 3
   },
   "file_extension": ".py",
   "mimetype": "text/x-python",
   "name": "python",
   "nbconvert_exporter": "python",
   "pygments_lexer": "ipython3",
   "version": "3.7.3"
  }
 },
 "nbformat": 4,
 "nbformat_minor": 2
}
